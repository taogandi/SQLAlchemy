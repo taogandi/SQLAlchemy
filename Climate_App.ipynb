{
 "cells": [
  {
   "cell_type": "code",
   "execution_count": 1,
   "metadata": {},
   "outputs": [],
   "source": [
    "# Import Dependencies\n",
    "import datetime as datetime\n",
    "import numpy as np\n",
    "import pandas as pd\n",
    "import sqlalchemy\n",
    "from sqlalchemy.ext.automap import automap_base\n",
    "from sqlalchemy.orm import Session\n",
    "from sqlalchemy import create_engine, func\n",
    "from flask import Flask, jsonify"
   ]
  },
  {
   "cell_type": "code",
   "execution_count": 2,
   "metadata": {},
   "outputs": [],
   "source": [
    "#determining Engine\n",
    "engine = create_engine(\"sqlite:///Resources/hawaii.sqlite\")\n",
    "\n",
    "# mapping database\n",
    "Base = automap_base()\n",
    "\n",
    "# Reflecting tables\n",
    "Base.prepare(engine, reflect=True)\n",
    "\n",
    "Measurement = Base.classes.measurement\n",
    "Station = Base.classes.station\n",
    "\n",
    "session = Session(engine)"
   ]
  },
  {
   "cell_type": "code",
   "execution_count": 3,
   "metadata": {},
   "outputs": [],
   "source": [
    "#Setting Flask\n",
    "\n",
    "app = Flask(__name__)"
   ]
  },
  {
   "cell_type": "code",
   "execution_count": 4,
   "metadata": {},
   "outputs": [],
   "source": [
    "#Defining all the possible routes\n",
    "base_date = datetime.datetime.strptime(\"2017-08-23\", \"%Y-%m-%d\")\n",
    "numdays = 365\n",
    "date_list = [base_date - datetime.timedelta(days=x) for x in range(0, numdays)]\n",
    "\n",
    "str_dates = []\n",
    "for date in date_list:\n",
    "    new_date = date.strftime(\"%Y-%m-%d\")\n",
    "    str_dates.append(new_date)\n",
    "\n",
    "@app.route(\"/api.v1.0/precipitation\")\n",
    "def precipitation():\n",
    "\n",
    "    # Query 1\n",
    "    results = session.query(Measurement).filter(Measurement.date.in_(str_dates))\n",
    "    \n",
    "    prcp_data = []\n",
    "    for day in results:\n",
    "        prcp_dict = {}\n",
    "        prcp_dict[day.date] = day.prcp\n",
    "        prcp_data.append(prcp_dict)\n",
    "\n",
    "    return jsonify(prcp_data)\n",
    "\n",
    "@app.route(\"/api/v1.0/stations\")\n",
    "def stations():\n",
    "\n",
    "    # Query 2\n",
    "    results = session.query(Station)\n",
    "\n",
    "    station_data = []\n",
    "    for station in results:\n",
    "        station_dict = {}\n",
    "        station_dict[\"Station\"] = station.station\n",
    "        station_dict[\"Name\"] = station.name\n",
    "        station_data.append(station_dict)\n",
    "\n",
    "    return jsonify(station_data)\n",
    "\n",
    "@app.route(\"/api/v1.0/tobs\")\n",
    "def tobs():\n",
    "\n",
    "    # Query 3\n",
    "    results = session.query(Measurement).filter(Measurement.date.in_(str_dates))\n",
    "\n",
    "    temp_data = []\n",
    "    for day in results:\n",
    "        temp_dict = {}\n",
    "        temp_dict[day.date] = day.tobs\n",
    "        temp_data.append(temp_dict)\n",
    "\n",
    "    return jsonify(temp_data)\n"
   ]
  },
  {
   "cell_type": "code",
   "execution_count": 5,
   "metadata": {},
   "outputs": [],
   "source": [
    "#Grabbing Date Range\n",
    "@app.route(\"/api/v1.0/<start>\")\n",
    "def temperature_s(start):\n",
    "    # Start & End\n",
    "    startDate = datetime.datetime.strptime(start, \"%Y-%m-%d\")\n",
    "    endDate = datetime.datetime.strptime(\"2017-08-23\", \"%Y-%m-%d\")\n",
    "\n",
    "    # Delta Dtae\n",
    "    delta = endDate - startDate\n",
    "    date_range = []\n",
    "    for i in range(delta.days + 1):\n",
    "        date_range.append(startDate + timedelta(days=i))\n",
    "    \n",
    "    # Filter Date\n",
    "    str_date_range = []\n",
    "    for date in date_range:\n",
    "        new_date = date.strftime(\"%Y-%m-%d\")\n",
    "        str_date_range.append(new_date)\n",
    "        \n",
    "    # Average minimun & maximum   \n",
    "    temp_avg = session.query(func.avg(Measurement.tobs))\\\n",
    "                .filter(Measurement.date.in_(str_date_range))[0][0]\n",
    "    temp_min = session.query(func.min(Measurement.tobs))\\\n",
    "                .filter(Measurement.date.in_(str_date_range))[0][0]\n",
    "    temp_max = session.query(func.max(Measurement.tobs))\\\n",
    "                .filter(Measurement.date.in_(str_date_range))[0][0]\n",
    "    \n",
    "    # Converting to Json Dictionary\n",
    "    temp_dict = {}\n",
    "    temp_dict[\"Average Temperature\"] = temp_avg\n",
    "    temp_dict[\"Minimum Temperature\"] = temp_min\n",
    "    temp_dict[\"Maximum Temperature\"] = temp_max\n",
    "    \n",
    "    return jsonify(temp_dict)"
   ]
  },
  {
   "cell_type": "code",
   "execution_count": 6,
   "metadata": {},
   "outputs": [
    {
     "name": "stdout",
     "output_type": "stream",
     "text": [
      " * Serving Flask app \"__main__\" (lazy loading)\n",
      " * Environment: production\n",
      "   WARNING: Do not use the development server in a production environment.\n",
      "   Use a production WSGI server instead.\n",
      " * Debug mode: on\n"
     ]
    },
    {
     "name": "stderr",
     "output_type": "stream",
     "text": [
      " * Running on http://127.0.0.1:5000/ (Press CTRL+C to quit)\n",
      " * Restarting with stat\n"
     ]
    },
    {
     "ename": "SystemExit",
     "evalue": "1",
     "output_type": "error",
     "traceback": [
      "An exception has occurred, use %tb to see the full traceback.\n",
      "\u001b[0;31mSystemExit\u001b[0m\u001b[0;31m:\u001b[0m 1\n"
     ]
    },
    {
     "name": "stderr",
     "output_type": "stream",
     "text": [
      "/Users/taouficgandi/anaconda3/lib/python3.7/site-packages/IPython/core/interactiveshell.py:3275: UserWarning: To exit: use 'exit', 'quit', or Ctrl-D.\n",
      "  warn(\"To exit: use 'exit', 'quit', or Ctrl-D.\", stacklevel=1)\n"
     ]
    }
   ],
   "source": [
    "#Repeat for tobs\n",
    "@app.route(\"/api/v1.0/<start>/<end>\")\n",
    "def temperature(start, end):\n",
    "    # Start & End\n",
    "    startDate = datetime.datetime.strptime(start, \"%Y-%m-%d\")\n",
    "    endDate = datetime.datetime.strptime(end, \"%Y-%m-%d\")\n",
    "\n",
    "    # Delta Date\n",
    "    delta = endDate - startDate\n",
    "    date_range = []\n",
    "    for i in range(delta.days + 1):\n",
    "        date_range.append(startDate + timedelta(days=i))\n",
    "    \n",
    "    # Filter Date\n",
    "    str_date_range = []\n",
    "    for date in date_range:\n",
    "        new_date = date.strftime(\"%Y-%m-%d\")\n",
    "        str_date_range.append(new_date)\n",
    "\n",
    "    # Average minimun & maximum   \n",
    "    temp_avg = session.query(func.avg(Measurement.tobs))\\\n",
    "                .filter(Measurement.date.in_(str_date_range))[0][0]\n",
    "    temp_min = session.query(func.min(Measurement.tobs))\\\n",
    "                .filter(Measurement.date.in_(str_date_range))[0][0]\n",
    "    temp_max = session.query(func.max(Measurement.tobs))\\\n",
    "                .filter(Measurement.date.in_(str_date_range))[0][0]\n",
    "\n",
    "    # Dictionary of temperatures\n",
    "    temp_dict = {}\n",
    "    temp_dict[\"Average Temperature\"] = temp_avg\n",
    "    temp_dict[\"Minimum Temperature\"] = temp_min\n",
    "    temp_dict[\"Maximum Temperature\"] = temp_max\n",
    "\n",
    "    return jsonify(temp_dict)\n",
    "\n",
    "if __name__ == '__main__':\n",
    "    app.run(debug=True)"
   ]
  },
  {
   "cell_type": "code",
   "execution_count": null,
   "metadata": {},
   "outputs": [],
   "source": []
  }
 ],
 "metadata": {
  "kernelspec": {
   "display_name": "Python 3",
   "language": "python",
   "name": "python3"
  },
  "language_info": {
   "codemirror_mode": {
    "name": "ipython",
    "version": 3
   },
   "file_extension": ".py",
   "mimetype": "text/x-python",
   "name": "python",
   "nbconvert_exporter": "python",
   "pygments_lexer": "ipython3",
   "version": "3.7.1"
  }
 },
 "nbformat": 4,
 "nbformat_minor": 2
}
